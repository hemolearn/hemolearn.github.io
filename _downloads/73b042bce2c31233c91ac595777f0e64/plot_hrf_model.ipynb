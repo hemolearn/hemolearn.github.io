{
  "cells": [
    {
      "cell_type": "code",
      "execution_count": null,
      "metadata": {
        "collapsed": false
      },
      "outputs": [],
      "source": [
        "%matplotlib inline"
      ]
    },
    {
      "cell_type": "markdown",
      "metadata": {},
      "source": [
        "\n# HRF models\n\nExample to illutrate the different HRF model in HemoLearn.\n    :depth: 1\n\n\n"
      ]
    },
    {
      "cell_type": "code",
      "execution_count": null,
      "metadata": {
        "collapsed": false
      },
      "outputs": [],
      "source": [
        "# Authors: Hamza Cherkaoui <hamza.cherkaoui@inria.fr>\n# License: BSD (3-clause)\n\nimport os\nimport time\nimport numpy as np\nimport matplotlib.pyplot as plt\n\nfrom hemolearn.hrf_model import scaled_hrf, hrf_3_basis, hrf_2_basis\n\n\nt0_total = time.time()"
      ]
    },
    {
      "cell_type": "markdown",
      "metadata": {},
      "source": [
        "## Create plotting directory\n\n"
      ]
    },
    {
      "cell_type": "code",
      "execution_count": null,
      "metadata": {
        "collapsed": false
      },
      "outputs": [],
      "source": [
        "plot_dir = 'plots'\nif not os.path.exists(plot_dir):\n    os.makedirs(plot_dir)"
      ]
    },
    {
      "cell_type": "markdown",
      "metadata": {},
      "source": [
        "## Construct the HRFs\n\n"
      ]
    },
    {
      "cell_type": "code",
      "execution_count": null,
      "metadata": {
        "collapsed": false
      },
      "outputs": [],
      "source": [
        "TR = 0.5\nn_times_atom = 60\n\n_xticks = [0, int(n_times_atom / 2.0), int(n_times_atom)]\n_xticks_labels = [0,\n    time.strftime(\"%Ss\", time.gmtime(int(TR * n_times_atom / 2.0))),\n    time.strftime(\"%Ss\", time.gmtime(int(TR * n_times_atom)))\n    ]\n\nbasis_3 = hrf_3_basis(TR, n_times_atom)\nhrf_3_basis_ = np.array([1.0, 0.5, 0.5]).dot(basis_3)\n\nbasis_2 = hrf_2_basis(TR, n_times_atom)\nhrf_2_basis_ = np.array([1.0, 0.5]).dot(basis_2)\n\ndelta = 1.0\nscaled_hrf_ = scaled_hrf(delta, TR, n_times_atom)"
      ]
    },
    {
      "cell_type": "markdown",
      "metadata": {},
      "source": [
        "## Plot all the HRF models\n\n"
      ]
    },
    {
      "cell_type": "code",
      "execution_count": null,
      "metadata": {
        "collapsed": false
      },
      "outputs": [],
      "source": [
        "_, axis = plt.subplots(1, 1, figsize=(6, 3))\naxis.plot(hrf_3_basis_.T, lw=2.0, label=\"3-basis HRF\")\naxis.plot(hrf_2_basis_.T, lw=2.0, label=\"2-basis HRF\")\naxis.plot(scaled_hrf_, lw=2.0, label=r\"Scaled HRF ($\\delta=1.0$)\")\naxis.set_xticks(_xticks)\naxis.set_xticklabels(_xticks_labels, fontsize=18)\naxis.set_title(\"HRF models\", fontsize=20)\nplt.grid()\nplt.legend()\nplt.tight_layout()\nfilename = os.path.join(plot_dir, 'hrf_model.png')\nprint(f\"Saving plot under '{filename}'\")\nplt.savefig(filename, dpi=200)"
      ]
    },
    {
      "cell_type": "markdown",
      "metadata": {},
      "source": [
        "## Plot different scaled model HRFs\n\n"
      ]
    },
    {
      "cell_type": "code",
      "execution_count": null,
      "metadata": {
        "collapsed": false
      },
      "outputs": [],
      "source": [
        "_, axis = plt.subplots(1, 1, figsize=(6, 3))\naxis.plot(scaled_hrf(0.5, TR, n_times_atom), lw=2.0,\n          label=r\"Scaled HRF ($\\delta={0.5}$)\")\naxis.plot(scaled_hrf(1.0, TR, n_times_atom), lw=2.0,\n          label=r\"Scaled HRF ($\\delta={1.0}$)\")\naxis.plot(scaled_hrf(2.0, TR, n_times_atom), lw=2.0,\n          label=r\"Scaled HRF ($\\delta={2.0}$)\")\naxis.set_xticks(_xticks)\naxis.set_xticklabels(_xticks_labels, fontsize=18)\naxis.set_title(\"Scaled model HRFs\", fontsize=20)\nplt.grid()\nplt.legend()\nplt.tight_layout()\nfilename = os.path.join(plot_dir, 'scaled_hrf_model.png')\nprint(f\"Saving plot under '{filename}'\")\nplt.savefig(filename, dpi=200)"
      ]
    },
    {
      "cell_type": "markdown",
      "metadata": {},
      "source": [
        "## Display the runtime of the script\n\n"
      ]
    },
    {
      "cell_type": "code",
      "execution_count": null,
      "metadata": {
        "collapsed": false
      },
      "outputs": [],
      "source": [
        "delta_t = time.gmtime(time.time() - t0_total)\ndelta_t = time.strftime(\"%H h %M min %S s\", delta_t)\nprint(f\"Script runs in {delta_t}\")"
      ]
    }
  ],
  "metadata": {
    "kernelspec": {
      "display_name": "Python 3",
      "language": "python",
      "name": "python3"
    },
    "language_info": {
      "codemirror_mode": {
        "name": "ipython",
        "version": 3
      },
      "file_extension": ".py",
      "mimetype": "text/x-python",
      "name": "python",
      "nbconvert_exporter": "python",
      "pygments_lexer": "ipython3",
      "version": "3.6.9"
    }
  },
  "nbformat": 4,
  "nbformat_minor": 0
}