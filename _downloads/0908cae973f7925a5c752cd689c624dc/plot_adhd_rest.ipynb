{
  "cells": [
    {
      "cell_type": "code",
      "execution_count": null,
      "metadata": {
        "collapsed": false
      },
      "outputs": [],
      "source": [
        "%matplotlib inline"
      ]
    },
    {
      "cell_type": "markdown",
      "metadata": {},
      "source": [
        "\n# Real fMRI data example\n\nExample to recover the different neural temporal activities, the associated\nfunctional networks maps and the HRFs per ROIs in the fMRI data, on the ADHD\ndataset resting-state.\n    :depth: 1\n\n\n"
      ]
    },
    {
      "cell_type": "code",
      "execution_count": null,
      "metadata": {
        "collapsed": false
      },
      "outputs": [],
      "source": [
        "# Authors: Hamza Cherkaoui <hamza.cherkaoui@inria.fr>\n# License: BSD (3-clause)\n\nimport os\nfrom nilearn import datasets\nimport numpy as np\n\nfrom hemolearn import BDA, plotting"
      ]
    },
    {
      "cell_type": "markdown",
      "metadata": {},
      "source": [
        "## Create plotting directory\n\n"
      ]
    },
    {
      "cell_type": "code",
      "execution_count": null,
      "metadata": {
        "collapsed": false
      },
      "outputs": [],
      "source": [
        "plot_dir = 'plots'\nif not os.path.exists(plot_dir):\n    os.makedirs(plot_dir)"
      ]
    },
    {
      "cell_type": "markdown",
      "metadata": {},
      "source": [
        "## Fetch fMRI subjects\n\n"
      ]
    },
    {
      "cell_type": "code",
      "execution_count": null,
      "metadata": {
        "collapsed": false
      },
      "outputs": [],
      "source": [
        "seed, TR, n_subjects = 0, 2.0, 4\nadhd_dataset = datasets.fetch_adhd(n_subjects=n_subjects)\nfunc_fnames = adhd_dataset.func[:n_subjects]\nconfound_fnames = adhd_dataset.confounds[:n_subjects]"
      ]
    },
    {
      "cell_type": "markdown",
      "metadata": {},
      "source": [
        "## Distangle the neurovascular coupling from the neural activation\n\n"
      ]
    },
    {
      "cell_type": "code",
      "execution_count": null,
      "metadata": {
        "collapsed": false
      },
      "outputs": [],
      "source": [
        "bda = BDA(n_atoms=10, t_r=TR, n_times_atom=30, lbda=0.1, max_iter=50,\n          standardize=True, shared_spatial_maps=True, random_state=seed,\n          verbose=1)\na_hat_img = bda.fit_transform(func_fnames, confound_fnames=confound_fnames)"
      ]
    },
    {
      "cell_type": "markdown",
      "metadata": {},
      "source": [
        "## Plot the spatial maps\n\n"
      ]
    },
    {
      "cell_type": "code",
      "execution_count": null,
      "metadata": {
        "collapsed": false
      },
      "outputs": [],
      "source": [
        "filename = os.path.join(plot_dir, f'spatial_maps.png')\nplotting.plot_spatial_maps(bda.u_hat_img, filename=filename,\n                           perc_voxels_to_retain='1%', verbose=True)"
      ]
    },
    {
      "cell_type": "markdown",
      "metadata": {},
      "source": [
        "## Plot the temporal activations\n\n"
      ]
    },
    {
      "cell_type": "code",
      "execution_count": null,
      "metadata": {
        "collapsed": false
      },
      "outputs": [],
      "source": [
        "for n in range(n_subjects):\n    filename = os.path.join(plot_dir, f'activations_{n}.png')\n    plotting.plot_temporal_activations(bda.z_hat[n], TR, filename=filename,\n                                       verbose=True)"
      ]
    },
    {
      "cell_type": "markdown",
      "metadata": {},
      "source": [
        "## Plot vascular maps\n\n"
      ]
    },
    {
      "cell_type": "code",
      "execution_count": null,
      "metadata": {
        "collapsed": false
      },
      "outputs": [],
      "source": [
        "vmax = np.max([np.max(bda.a_hat[n]) for n in range(n_subjects)])\nfor n in range(n_subjects):\n    filename = os.path.join(plot_dir, f'vascular_maps_{n}.png')\n    plotting.plot_vascular_map(a_hat_img[n], display_mode='z',\n                               cut_coords=np.linspace(-30, 60, 5),\n                               filename=filename, vmax=vmax, verbose=True)"
      ]
    }
  ],
  "metadata": {
    "kernelspec": {
      "display_name": "Python 3",
      "language": "python",
      "name": "python3"
    },
    "language_info": {
      "codemirror_mode": {
        "name": "ipython",
        "version": 3
      },
      "file_extension": ".py",
      "mimetype": "text/x-python",
      "name": "python",
      "nbconvert_exporter": "python",
      "pygments_lexer": "ipython3",
      "version": "3.6.9"
    }
  },
  "nbformat": 4,
  "nbformat_minor": 0
}